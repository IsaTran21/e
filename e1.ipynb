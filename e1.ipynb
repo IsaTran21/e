{
 "cells": [
  {
   "cell_type": "code",
   "execution_count": 46,
   "metadata": {},
   "outputs": [],
   "source": [
    "import pandas as pd\n",
    "import numpy as np\n",
    "import matplotlib.pyplot as plt"
   ]
  },
  {
   "cell_type": "code",
   "execution_count": 47,
   "metadata": {},
   "outputs": [
    {
     "data": {
      "text/plain": [
       "3"
      ]
     },
     "execution_count": 47,
     "metadata": {},
     "output_type": "execute_result"
    }
   ],
   "source": [
    "#This is the pattern_count function which returns the occurrences of a pattern in a DNA sequence\n",
    "def pattern_count(text, pattern):\n",
    "    c = 0\n",
    "    for i in range(len(text)-len(pattern)):\n",
    "        if text[i:i+len(pattern)] == pattern:\n",
    "            c += 1\n",
    "    return c\n",
    "\n",
    "#Testing the pattern_count function\n",
    "t = \"ACAACTATGCATACTATCGGGAACTATCCT\"\n",
    "p = \"ACTAT\"\n",
    "t1 = pattern_count(t,p)\n",
    "t1"
   ]
  },
  {
   "cell_type": "code",
   "execution_count": 48,
   "metadata": {},
   "outputs": [
    {
     "data": {
      "text/plain": [
       "1"
      ]
     },
     "execution_count": 48,
     "metadata": {},
     "output_type": "execute_result"
    }
   ],
   "source": [
    "#Testing the pattern_coung function\n",
    "t = \"CGTGACAGTGTATGGGCATCTTT\"\n",
    "p = \"TGT\"\n",
    "t1 = pattern_count(t,p)\n",
    "t1"
   ]
  },
  {
   "cell_type": "code",
   "execution_count": 49,
   "metadata": {},
   "outputs": [
    {
     "data": {
      "text/plain": [
       "[{'GTG'}, 2]"
      ]
     },
     "execution_count": 49,
     "metadata": {},
     "output_type": "execute_result"
    }
   ],
   "source": [
    "def frequent_word(text,k):#updated better bigO under\n",
    "    \n",
    "    \"\"\"input: a string which represents DNA letters and number of bases in the pattern (k)\n",
    "     output: the k-mer which has the most occurrences\n",
    "    \"\"\"\n",
    "    count_ = []#to store the pattern with its occurrences in the text\n",
    "    l = len(text)#the length of the text (DNA,RNA)\n",
    "    result = []#to store the most frequent k-mer in text and be returned\n",
    "    for i in range(l-k+1):\n",
    "        temp = text[i:i+k]#a k-mer\n",
    "        occurrence = [pattern_count(text,temp),temp]\n",
    "        count_.append(occurrence)\n",
    "    count_array = [count_[i][0] for i in range(len(count_))]#the COUNT(i) array\n",
    "    max_count = max(count_array)\n",
    "    for i in count_:\n",
    "        if i[0] == max_count:\n",
    "            result.append(i[1])\n",
    "    result = set(result)\n",
    "    return [result,max_count]\n",
    "\n",
    "#testing the frequent_word function\n",
    "t2 = frequent_word(t,3)\n",
    "t2"
   ]
  },
  {
   "cell_type": "code",
   "execution_count": 50,
   "metadata": {},
   "outputs": [],
   "source": [
    "import itertools\n",
    "def all_kmer(k):\n",
    "    x = 'AGTC'\n",
    "    l = itertools.product(x, repeat=k)\n",
    "    l = list(l)\n",
    "    result = []\n",
    "    for i in l:\n",
    "        temp = ''.join(i)\n",
    "        result.append(temp)\n",
    "    return result\n",
    "def pattern_to_number(pattern):\n",
    "    k = len(pattern)\n",
    "    all_patterns = all_kmer(k=k)\n",
    "    all_patterns.sort()#To sort all patterns\n",
    "    index = all_patterns.index(pattern) \n",
    "    return index\n",
    "def number_to_pattern(position,k):\n",
    "    all_patterns = all_kmer(k=k)\n",
    "    all_patterns.sort()\n",
    "    pattern = all_patterns[position]\n",
    "    return pattern"
   ]
  },
  {
   "cell_type": "code",
   "execution_count": 51,
   "metadata": {},
   "outputs": [
    {
     "name": "stdout",
     "output_type": "stream",
     "text": [
      "11\n",
      "GT\n",
      "GCGGTAA\n"
     ]
    }
   ],
   "source": [
    "#Testing pattern_to_number\n",
    "t6 = pattern_to_number(\"GT\")\n",
    "t7 = number_to_pattern(11,2)\n",
    "t8 = number_to_pattern(9904,7)\n",
    "print(t6)\n",
    "print(t7)\n",
    "print(t8)"
   ]
  },
  {
   "cell_type": "code",
   "execution_count": null,
   "metadata": {},
   "outputs": [],
   "source": []
  },
  {
   "cell_type": "code",
   "execution_count": 52,
   "metadata": {},
   "outputs": [],
   "source": [
    "def frequent_word_update(text,k):#to improve better bigO\n",
    "    \n",
    "    \"\"\"input: a string which represents DNA letters and number of bases in the pattern (k)\n",
    "     output: the k-mer which has the most occurrences\n",
    "    \"\"\"\n",
    "    frequency_array = list(np.zeros(4**k,dtype=int))\n",
    "    #The frequency_array indeed is a list of index position of the patterns\n",
    "    for i in range(len(text)-k+1):\n",
    "        pattern = text[i:i+k]\n",
    "        j = pattern_to_number(pattern)\n",
    "        frequency_array[j] += 1\n",
    "    return frequency_array"
   ]
  },
  {
   "cell_type": "code",
   "execution_count": 53,
   "metadata": {},
   "outputs": [
    {
     "name": "stdout",
     "output_type": "stream",
     "text": [
      "16\n"
     ]
    },
    {
     "data": {
      "text/plain": [
       "[3, 0, 2, 0, 1, 0, 0, 0, 0, 1, 3, 1, 0, 0, 1, 0]"
      ]
     },
     "execution_count": 53,
     "metadata": {},
     "output_type": "execute_result"
    }
   ],
   "source": [
    "#Testing the frequent_word_update\n",
    "dna = \"AAGCAAAGGTGGG\"\n",
    "t7 = frequent_word_update(dna,2)\n",
    "print(len(t7))\n",
    "t7"
   ]
  },
  {
   "cell_type": "code",
   "execution_count": 54,
   "metadata": {},
   "outputs": [],
   "source": [
    "#Disadvantage: impractical when k is large\n",
    "def faster_frequent_words(text,k):\n",
    "    frequent_pattern = []\n",
    "    frequen_array = frequent_word_update(text=text,k=k)\n",
    "    max_ = max(frequen_array)\n",
    "    for i in range(4**k):\n",
    "        if frequen_array[i] == max_:\n",
    "            pattern = number_to_pattern(i,k)\n",
    "            frequent_pattern.append(pattern)\n",
    "    return frequent_pattern"
   ]
  },
  {
   "cell_type": "code",
   "execution_count": 55,
   "metadata": {},
   "outputs": [
    {
     "data": {
      "text/plain": [
       "['GTG']"
      ]
     },
     "execution_count": 55,
     "metadata": {},
     "output_type": "execute_result"
    }
   ],
   "source": [
    "#testing the faster_frequent_words function\n",
    "t6 = faster_frequent_words(t,3)\n",
    "t6"
   ]
  },
  {
   "cell_type": "code",
   "execution_count": null,
   "metadata": {},
   "outputs": [],
   "source": []
  },
  {
   "cell_type": "code",
   "execution_count": 56,
   "metadata": {
    "scrolled": true
   },
   "outputs": [
    {
     "data": {
      "text/latex": [
       "If this nucleotide is G, then $SKEW_{i+1}(Genome) = SKEW_i(Genome) + 1\\\\$\n",
       "If this nucleotide is C, then $SKEW_{i+1}(Genome) = SKEW_i(Genome) - 1\\\\$\n",
       "Otherwise: $SKEW_{i+1}(Genome) = SKEW_i(Genome)$\n"
      ],
      "text/plain": [
       "<IPython.core.display.Latex object>"
      ]
     },
     "metadata": {},
     "output_type": "display_data"
    }
   ],
   "source": [
    "%%latex\n",
    "If this nucleotide is G, then $SKEW_{i+1}(Genome) = SKEW_i(Genome) + 1\\\\$\n",
    "If this nucleotide is C, then $SKEW_{i+1}(Genome) = SKEW_i(Genome) - 1\\\\$\n",
    "Otherwise: $SKEW_{i+1}(Genome) = SKEW_i(Genome)$"
   ]
  },
  {
   "cell_type": "code",
   "execution_count": 57,
   "metadata": {},
   "outputs": [
    {
     "data": {
      "text/plain": [
       "[<matplotlib.lines.Line2D at 0x1c11a559730>]"
      ]
     },
     "execution_count": 57,
     "metadata": {},
     "output_type": "execute_result"
    },
    {
     "data": {
      "image/png": "[encoded data removed]",
      "text/plain": [
       "<Figure size 432x288 with 1 Axes>"
      ]
     },
     "metadata": {
      "needs_background": "light"
     },
     "output_type": "display_data"
    }
   ],
   "source": [
    "# The skew diagram\n",
    "def skew_diagram(text):\n",
    "    \"\"\"input: bases\"\"\"\n",
    "    text = text.lower()\n",
    "    array = [0]\n",
    "    for i in range(len(text)):\n",
    "        if text[i] == 'c':\n",
    "            temp = array[i] - 1\n",
    "\n",
    "        elif text[i] == 'g':\n",
    "            temp = array[i] + 1\n",
    "        else:\n",
    "            temp = array[i]\n",
    "            \n",
    "        array.append(temp)\n",
    "    return array\n",
    "\n",
    "#Testing the skew diagram\n",
    "g1 = \"GATACACTTCCCGAGTAGGTACTG\"\n",
    "t3 = skew_diagram(g1)\n",
    "x = np.arange(len(t3))\n",
    "plt.plot(x,t3)"
   ]
  },
  {
   "cell_type": "markdown",
   "metadata": {},
   "source": [
    "### Minimum Skew Problem"
   ]
  },
  {
   "cell_type": "code",
   "execution_count": 58,
   "metadata": {
    "scrolled": true
   },
   "outputs": [
    {
     "data": {
      "text/latex": [
       "Minimum Skew Problem:\n",
       "Find a position in a genome where the skew diagram attains a minimum.\n",
       "$\\\\$Input: A DNA string Genome.\n",
       "$\\\\$Output: All integer(s) i minimizing $SKEW_i(Genome)$ among all values of i\n",
       "(from 0 to |Genome|).\n"
      ],
      "text/plain": [
       "<IPython.core.display.Latex object>"
      ]
     },
     "metadata": {},
     "output_type": "display_data"
    }
   ],
   "source": [
    "%%latex\n",
    "Minimum Skew Problem:\n",
    "Find a position in a genome where the skew diagram attains a minimum.\n",
    "$\\\\$Input: A DNA string Genome.\n",
    "$\\\\$Output: All integer(s) i minimizing $SKEW_i(Genome)$ among all values of i\n",
    "(from 0 to |Genome|).\n"
   ]
  },
  {
   "cell_type": "code",
   "execution_count": null,
   "metadata": {},
   "outputs": [],
   "source": []
  },
  {
   "cell_type": "code",
   "execution_count": 59,
   "metadata": {},
   "outputs": [
    {
     "name": "stdout",
     "output_type": "stream",
     "text": [
      "12\n"
     ]
    }
   ],
   "source": [
    "def find_ori(text):\n",
    "    array = text.lower()\n",
    "    skew = skew_diagram(array)#Now skew is a list\n",
    "    min_ = min(skew)\n",
    "    l = []\n",
    "    for i in range(len(text)+1):\n",
    "        if skew[i] == min_:\n",
    "            l.append(i)\n",
    "    if len(l) == 1:\n",
    "        return l[0]\n",
    "    else:\n",
    "        return l\n",
    "\n",
    "#Testing the find_ori\n",
    "g1 = \"GATACACTTCCCGAGTAGGTACTG\"\n",
    "t3 = find_ori(g1)\n",
    "print(t3)"
   ]
  },
  {
   "cell_type": "code",
   "execution_count": 60,
   "metadata": {},
   "outputs": [
    {
     "data": {
      "text/plain": [
       "[0, 1, 2, 4, 5, 6, 7]"
      ]
     },
     "execution_count": 60,
     "metadata": {},
     "output_type": "execute_result"
    }
   ],
   "source": [
    "#For a dna segment which I found on the Internet\n",
    "def remove_num(text):\n",
    "    s = ''\n",
    "    for i in text:\n",
    "        if i.isalpha():\n",
    "            s += i\n",
    "    return s\n",
    "df = pd.read_csv(\"dna.csv\",header=None)\n",
    "df1 = df[0].map(remove_num)\n",
    "dna1 = ''\n",
    "for i in range(len(df1)):\n",
    "    dna1 += df1[i]\n",
    "#check a short region of dna of an organism\n",
    "t4 = find_ori(dna)\n",
    "t4"
   ]
  },
  {
   "cell_type": "code",
   "execution_count": 61,
   "metadata": {
    "scrolled": true
   },
   "outputs": [
    {
     "data": {
      "text/latex": [
       "Position i in k-mers $p_1 · · · p_k$ and $q_1 · · · q_k$ is a mismatch if $p_i \\ne q_i$.$\\\\$The\n",
       "number of mismatches between strings p and q is called the Hamming distance between these strings and is denoted HAMMINGDISTANCE(p, q)\n"
      ],
      "text/plain": [
       "<IPython.core.display.Latex object>"
      ]
     },
     "metadata": {},
     "output_type": "display_data"
    }
   ],
   "source": [
    "%%latex\n",
    "Position i in k-mers $p_1 · · · p_k$ and $q_1 · · · q_k$ is a mismatch if $p_i \\ne q_i$.$\\\\$The\n",
    "number of mismatches between strings p and q is called the Hamming distance between these strings and is denoted HAMMINGDISTANCE(p, q)"
   ]
  },
  {
   "cell_type": "markdown",
   "metadata": {},
   "source": [
    "### Hamming Distance Problem:\n",
    "<br>Compute the Hamming distance between two strings.\n",
    "<br>Input: Two strings of equal length.\n",
    "<br>Output: The Hamming distance between these strings."
   ]
  },
  {
   "cell_type": "code",
   "execution_count": 62,
   "metadata": {},
   "outputs": [
    {
     "data": {
      "text/plain": [
       "23"
      ]
     },
     "execution_count": 62,
     "metadata": {},
     "output_type": "execute_result"
    }
   ],
   "source": [
    "def complement(dna):\n",
    "    dna = dna.lower()\n",
    "    result = []\n",
    "    for i in dna:\n",
    "        if i == 'a':\n",
    "            result.append('t')\n",
    "        elif i == 't':\n",
    "            result.append('a')\n",
    "        elif i == 'g':\n",
    "            result.append('c')\n",
    "        else:\n",
    "            result.append('g')\n",
    "    return \"\".join(result)\n",
    "def Hamming_Distance(p,b,reverse=True):\n",
    "    \"\"\"input: p, b are of type string\n",
    "    output: integer\"\"\"\n",
    "    p = p.lower()\n",
    "    c = 0\n",
    "    if reverse == False:#because sometimes we don't need to compare the\n",
    "        #with the reverse compliment region\n",
    "        q = complement(b[::-1])\n",
    "        \n",
    "    else:\n",
    "        q = b.lower()\n",
    "    for i in range(len(p)):\n",
    "        if p[i] != q[i]:\n",
    "            c += 1\n",
    "    return c\n",
    "\n",
    "#Test the Hamming distance\n",
    "a_ = \"CAGAAAGGAAGGTCCCCATACACCGACGCACCAGTTTA\"\n",
    "b_ = \"CACGCCGTATGCATAAACGAGCCGCACGAACCAGAGAG\"\n",
    "t5 = Hamming_Distance(a_,b_)\n",
    "t5"
   ]
  },
  {
   "cell_type": "markdown",
   "metadata": {},
   "source": [
    "### Approximate Pattern Matching Problem:\n",
    "Find all approximate occurrences of a pattern in a string.\n",
    "Input: Strings Pattern and Text along with an integer d.\n",
    "Output: All starting positions where Pattern appears as a substring of Text\n",
    "with at most d mismatches"
   ]
  },
  {
   "cell_type": "code",
   "execution_count": 63,
   "metadata": {},
   "outputs": [
    {
     "data": {
      "text/plain": [
       "7"
      ]
     },
     "execution_count": 63,
     "metadata": {},
     "output_type": "execute_result"
    }
   ],
   "source": [
    "def approximate_pattern_count(Text, Pattern, d,reverse=True):\n",
    "    lp = len(Pattern)\n",
    "    lt = len(Text)\n",
    "    c = 0 #to keep track of count\n",
    "    for i in range(lt-lp):\n",
    "        p = Text[i:i+lp]\n",
    "        num = Hamming_Distance(p=p,b=Pattern,reverse=reverse)\n",
    "        if num <= d:\n",
    "            c += 1\n",
    "    return c\n",
    "\n",
    "#Testing\n",
    "a = \"CGTGACAGTGTATGGGCATCTTT\"\n",
    "pattern = \"TGT\"\n",
    "approximate_pattern_count(a,pattern,1)"
   ]
  },
  {
   "cell_type": "markdown",
   "metadata": {},
   "source": [
    "### Frequent Words with Mismatches Problem\n",
    "Find the most frequent k-mers with mismatches in a string\n",
    "<br> Input: a string text as well as integers k and d.\n",
    "<br> Output: All most frequent k-mers with up to d mismatches in Text\n",
    "<br> Idea: there are 4 types of bases, and each k-mers contains k letters, therefore, there are k^4 mers for each k-mers. First: we need to create a set of 4^k mers, second, we apply the approximate_pattern_count for each k-mer, finally, we choose the k-mer(s) which has the largest result."
   ]
  },
  {
   "cell_type": "code",
   "execution_count": 64,
   "metadata": {},
   "outputs": [],
   "source": [
    "#this strategy will be updated later\n",
    "\n",
    "\n",
    "def Frequent_Words_with_Mismatches(text,k,d):\n",
    "    #pattern_reverse\n",
    "    list_max = []\n",
    "    pattern = []\n",
    "    all_pattern = all_kmer(k)\n",
    "    pattern_with_mismatch = []\n",
    "    for i in all_pattern:\n",
    "        temp = approximate_pattern_count(text,i,d)\n",
    "        list_max.append(temp)\n",
    "        pattern_with_mismatch.append([temp,i])\n",
    "    max_ = max(list_max)\n",
    "    for i in pattern_with_mismatch:\n",
    "        if i[0] == max_:\n",
    "            pattern.append(i)\n",
    "            \n",
    "    #pattern not reverse\n",
    "    \n",
    "    pattern_with_mismatch_1 = []\n",
    "    list_max_1 = []\n",
    "    for i in all_pattern:\n",
    "        temp = approximate_pattern_count(text,i,d,reverse=False)\n",
    "        list_max_1.append(temp)\n",
    "        pattern_with_mismatch_1.append([temp,i])\n",
    "    max_1 = max(list_max_1)\n",
    "    for i in pattern_with_mismatch_1:\n",
    "        if i[0] == max_1:\n",
    "            pattern.append(i)\n",
    "            \n",
    "    return pattern"
   ]
  },
  {
   "cell_type": "markdown",
   "metadata": {},
   "source": [
    "### Frequent Words with Mismatches and Reverse Complements Problem\n",
    "Find the most frequent k-mers (with mismatches and reverse complements) in a string.\n",
    "<br>Input: A DNA string Text as well as integers k and d.\n",
    "<br>Output: All k-mers Pattern that maximize the sum COUNTd(Text, Pattern) +\n",
    "COUNTd(Text, Pattern) over all possible k-mers."
   ]
  },
  {
   "cell_type": "markdown",
   "metadata": {},
   "source": [
    "### CLUMPFINDING"
   ]
  },
  {
   "cell_type": "code",
   "execution_count": 65,
   "metadata": {},
   "outputs": [
    {
     "data": {
      "text/plain": [
       "{'CGACA', 'GAAGA'}"
      ]
     },
     "execution_count": 65,
     "metadata": {},
     "output_type": "execute_result"
    }
   ],
   "source": [
    "def find_clumping(Genome,k,t,L):\n",
    "    clump = list(np.zeros(4**k,dtype=int))\n",
    "    frequent_pattern = set()\n",
    "    text = Genome[0:L]\n",
    "    frequency_array = frequent_word_update(text=text,k=k)\n",
    "    #print(Genome)\n",
    "    for i in range(4**k):\n",
    "        if frequency_array[i] >= t:\n",
    "            clump[i] = 1\n",
    "\n",
    "    for i in range(1,len(Genome)-L+1):\n",
    "        first_pattern = Genome[i-1:i-1+k]\n",
    "        index = pattern_to_number(first_pattern)\n",
    "        frequency_array[index] = frequency_array[index] - 1\n",
    "        last_pattern = Genome[i+L-k:i+L-k+k]\n",
    "        index = pattern_to_number(last_pattern)\n",
    "        frequency_array[index] = frequency_array[index] + 1\n",
    "        if frequency_array[index] >= t:\n",
    "            clump[index] = 1\n",
    "    for i in range(4**k):\n",
    "        if clump[i] == 1:\n",
    "            pattern = number_to_pattern(i,k)\n",
    "            frequent_pattern.add(pattern)\n",
    "    return frequent_pattern\n",
    "\n",
    "### Testing find_clumping\n",
    "Genome = 'CGGACTCGACAGATGTGAAGAACGACAATGTGAAGACTCGACACGACAGAGTGAAGAGAAGAGGAAACATTGTAA'\n",
    "k= 5\n",
    "L = 50\n",
    "t = 4\n",
    "\n",
    "t9 = find_clumping(Genome,k,t,L)\n",
    "t9"
   ]
  },
  {
   "cell_type": "code",
   "execution_count": 66,
   "metadata": {},
   "outputs": [
    {
     "data": {
      "text/plain": [
       "[[5, 'AGAAGA'], [5, 'GAAGAA'], [5, 'TTCTTC'], [5, 'TCTTCT']]"
      ]
     },
     "execution_count": 66,
     "metadata": {},
     "output_type": "execute_result"
    }
   ],
   "source": [
    "Frequent_Words_with_Mismatches(Genome,6,1)"
   ]
  },
  {
   "cell_type": "markdown",
   "metadata": {},
   "source": [
    "### Finding neighbor\n",
    "Given a k-mer\n",
    "Pattern, we therefore define its d-neighborhood NEIGHBORS(Pattern, d) as the set of all\n",
    "k-mers that are close to Pattern. "
   ]
  },
  {
   "cell_type": "code",
   "execution_count": 67,
   "metadata": {},
   "outputs": [],
   "source": [
    "def NEIGHBORS(Pattern, d):\n",
    "    neighbour = set()\n",
    "    k = len(Pattern)\n",
    "    all_of_kmers = all_kmer(k)\n",
    "    for i in all_of_kmers:\n",
    "        if Hamming_Distance(i,Pattern) == d:\n",
    "            neighbour.add(i)\n",
    "    neighbour.add(Pattern)\n",
    "    return neighbour\n",
    "#Testing NEIGHBORS\n",
    "#t10 = NEIGHBORS(\"TGCAT\",2)\n",
    "#len(set(t10))"
   ]
  },
  {
   "cell_type": "markdown",
   "metadata": {},
   "source": [
    "### Compute Pr(N, A,Pattern, t)\n",
    "The probability that a string Pattern appears t or more\n",
    "times in a random string of length N formed from an alphabet of A letters."
   ]
  },
  {
   "cell_type": "markdown",
   "metadata": {},
   "source": []
  },
  {
   "attachments": {
    "image.png": {
     "image/png": "[encoded data removed]"
    }
   },
   "cell_type": "markdown",
   "metadata": {},
   "source": [
    "![image.png](attachment:image.png)"
   ]
  },
  {
   "cell_type": "markdown",
   "metadata": {},
   "source": [
    "### Checking the origin of Salmonella enterica"
   ]
  },
  {
   "cell_type": "code",
   "execution_count": 68,
   "metadata": {},
   "outputs": [],
   "source": [
    "from Bio.Blast import NCBIWWW\n",
    "from Bio import SeqIO, SearchIO"
   ]
  },
  {
   "cell_type": "code",
   "execution_count": 69,
   "metadata": {},
   "outputs": [],
   "source": [
    "mystery =  SeqIO.parse(\"mystery.fasta\",format=\"fasta\")\n",
    "l = list(mystery)"
   ]
  },
  {
   "cell_type": "code",
   "execution_count": 70,
   "metadata": {},
   "outputs": [
    {
     "data": {
      "text/plain": [
       "'AE006468.2 Salmonella enterica subsp. enterica serovar Typhimurium str. LT2, complete genome'"
      ]
     },
     "execution_count": 70,
     "metadata": {},
     "output_type": "execute_result"
    }
   ],
   "source": [
    "l[0].description"
   ]
  },
  {
   "cell_type": "code",
   "execution_count": 71,
   "metadata": {},
   "outputs": [
    {
     "data": {
      "text/plain": [
       "[<matplotlib.lines.Line2D at 0x1c11fd36f70>]"
      ]
     },
     "execution_count": 71,
     "metadata": {},
     "output_type": "execute_result"
    },
    {
     "data": {
      "image/png": "[encoded data removed]",
      "text/plain": [
       "<Figure size 432x288 with 1 Axes>"
      ]
     },
     "metadata": {
      "needs_background": "light"
     },
     "output_type": "display_data"
    }
   ],
   "source": [
    "#Check the skew\n",
    "dna = str(l[0].seq)\n",
    "\n",
    "t11 = skew_diagram(dna)\n",
    "x = np.arange(len(t11))\n",
    "plt.plot(x,t11)"
   ]
  },
  {
   "cell_type": "markdown",
   "metadata": {},
   "source": [
    "### Analysis\n",
    "<br> According to the Skew diagram, we saw that the skew is decreasing along the\n",
    "reverse half-strand and increasing along the forward half-strand. Thus, the skew should\n",
    "achieve a minimum at the position where the reverse half-strand ends and the forward\n",
    "half-strand begins."
   ]
  },
  {
   "cell_type": "code",
   "execution_count": 72,
   "metadata": {},
   "outputs": [
    {
     "name": "stdout",
     "output_type": "stream",
     "text": [
      "[4084377, 4084379]\n"
     ]
    }
   ],
   "source": [
    "# Find_ori\n",
    "t12 = find_ori(dna)\n",
    "print(t12)"
   ]
  },
  {
   "cell_type": "code",
   "execution_count": 73,
   "metadata": {},
   "outputs": [
    {
     "data": {
      "text/plain": [
       "'GC'"
      ]
     },
     "execution_count": 73,
     "metadata": {},
     "output_type": "execute_result"
    }
   ],
   "source": [
    "dna[4084377:4084379]"
   ]
  },
  {
   "cell_type": "code",
   "execution_count": 74,
   "metadata": {},
   "outputs": [
    {
     "data": {
      "text/plain": [
       "202"
      ]
     },
     "execution_count": 74,
     "metadata": {},
     "output_type": "execute_result"
    }
   ],
   "source": [
    "#Create a window: estimation\n",
    "origin_window = dna[4084377-100:4084379+100]\n",
    "len(origin_window )"
   ]
  },
  {
   "cell_type": "code",
   "execution_count": 75,
   "metadata": {},
   "outputs": [
    {
     "data": {
      "text/plain": [
       "'TTTTGCGCCAGCGCCTTTCAGTTCCGCTTCTATTTTCTCAATCGCGCCGCAAAACGTGTCGTATTCTCGACTGCCAATGCCAATTGCGCCGAAACGTACCGCGGAAAGATCGGGTTTCTGCGTCTGAAGGTCTTCATAGAAAGGGGTCAGGTTGTCCGGAATGTCTCCGGCACCGTGCGTTGAGCTGATTATCAGCCAGATC'"
      ]
     },
     "execution_count": 75,
     "metadata": {},
     "output_type": "execute_result"
    }
   ],
   "source": [
    "origin_window"
   ]
  },
  {
   "cell_type": "code",
   "execution_count": 76,
   "metadata": {},
   "outputs": [],
   "source": [
    "dnaA = Frequent_Words_with_Mismatches(origin_window,9,4)\n"
   ]
  },
  {
   "cell_type": "markdown",
   "metadata": {},
   "source": [
    "# Potential dnaA"
   ]
  },
  {
   "cell_type": "code",
   "execution_count": 77,
   "metadata": {},
   "outputs": [
    {
     "data": {
      "text/plain": [
       "[[25, 'CTTTTCTTC'], [25, 'GAAGAAAAG']]"
      ]
     },
     "execution_count": 77,
     "metadata": {},
     "output_type": "execute_result"
    }
   ],
   "source": [
    "dnaA"
   ]
  },
  {
   "cell_type": "markdown",
   "metadata": {},
   "source": [
    "# Chapter 2"
   ]
  },
  {
   "cell_type": "code",
   "execution_count": null,
   "metadata": {},
   "outputs": [],
   "source": []
  },
  {
   "cell_type": "code",
   "execution_count": null,
   "metadata": {},
   "outputs": [],
   "source": []
  },
  {
   "cell_type": "code",
   "execution_count": null,
   "metadata": {},
   "outputs": [],
   "source": []
  },
  {
   "cell_type": "code",
   "execution_count": null,
   "metadata": {},
   "outputs": [],
   "source": []
  },
  {
   "cell_type": "code",
   "execution_count": null,
   "metadata": {},
   "outputs": [],
   "source": []
  },
  {
   "cell_type": "code",
   "execution_count": null,
   "metadata": {},
   "outputs": [],
   "source": []
  },
  {
   "cell_type": "code",
   "execution_count": null,
   "metadata": {},
   "outputs": [],
   "source": []
  },
  {
   "cell_type": "code",
   "execution_count": null,
   "metadata": {},
   "outputs": [],
   "source": []
  }
 ],
 "metadata": {
  "kernelspec": {
   "display_name": "Python 3 (ipykernel)",
   "language": "python",
   "name": "python3"
  },
  "language_info": {
   "codemirror_mode": {
    "name": "ipython",
    "version": 3
   },
   "file_extension": ".py",
   "mimetype": "text/x-python",
   "name": "python",
   "nbconvert_exporter": "python",
   "pygments_lexer": "ipython3",
   "version": "3.9.1"
  }
 },
 "nbformat": 4,
 "nbformat_minor": 4
}
